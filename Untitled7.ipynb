{
 "cells": [
  {
   "cell_type": "markdown",
   "id": "d3e78764-8873-4cdf-b774-b8bda7d67f78",
   "metadata": {},
   "source": [
    "Hai hello"
   ]
  },
  {
   "cell_type": "code",
   "execution_count": 2,
   "id": "99f21539-dcbb-4f16-bce2-a252affb00fb",
   "metadata": {},
   "outputs": [
    {
     "name": "stdout",
     "output_type": "stream",
     "text": [
      "Hello\n"
     ]
    }
   ],
   "source": [
    "print(\"Hello\")"
   ]
  },
  {
   "cell_type": "code",
   "execution_count": null,
   "id": "db4adde9-5e70-43b0-81fd-1cb2e1418633",
   "metadata": {},
   "outputs": [],
   "source": []
  }
 ],
 "metadata": {
  "kernelspec": {
   "display_name": "Python 3 (ipykernel)",
   "language": "python",
   "name": "python3"
  },
  "language_info": {
   "codemirror_mode": {
    "name": "ipython",
    "version": 3
   },
   "file_extension": ".py",
   "mimetype": "text/x-python",
   "name": "python",
   "nbconvert_exporter": "python",
   "pygments_lexer": "ipython3",
   "version": "3.12.4"
  }
 },
 "nbformat": 4,
 "nbformat_minor": 5
}
